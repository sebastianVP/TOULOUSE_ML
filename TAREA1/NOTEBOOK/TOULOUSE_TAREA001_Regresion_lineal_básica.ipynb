{
  "cells": [
    {
      "cell_type": "markdown",
      "metadata": {
        "id": "ev0-7weGKs2n"
      },
      "source": [
        "<img src=\"https://i.ytimg.com/vi/YLGhVBB5rGU/maxresdefault.jpg\" alt= \"LOGO CAT\" width=400 height=400 align = \"right\">\n",
        "\n",
        "<br>\n",
        "<h1><font color=\"#7F000E\" size=5>TOULOUSE LAUTREC </font></h1>\n",
        "<h1><font color=\"#7F000R\" size=6> APRENDIZAJE AUTOMATICO CON PYTHON </font></h1>\n",
        "<h1><font color=\"#7F000E\" size=4> REGRESION LINEAL BASICA </font></h1>\n",
        "<br>\n",
        "<div style=\"text-align:right\">\n",
        "<font color=\"#7F000E\" size=3> Ing. Alexander Valdez</font><br>\n",
        "<font color=\"#7F000E\" size=3> Curso 2290, Clases Lunes y Miercoles 20:00-22:30pm </font>\n",
        "<br>\n",
        "<br>\n",
        "<font color=\"#7F000e\" size=5> TAREA 1</font><br>\n",
        "</div>\n"
      ]
    },
    {
      "cell_type": "markdown",
      "source": [
        "---"
      ],
      "metadata": {
        "id": "dNQd38bNDI3G"
      }
    },
    {
      "cell_type": "markdown",
      "source": [
        "Buen dia alumnos, bienvenidos a este ejercicio de regresion lineal.\n",
        "\n",
        "El primer paso es conseguir un dataset o conjunto de datos, para esto podemos recurri al sitio Kaggle.com, el cual entre otras cosas ofrece datasets abiertos.\n",
        "\n",
        "En este caso usaremos el dataset kc_house_data (https://www.kaggle.com/shivachandel/kc-house-data),el cual contiene datos de distintas casas en Washington, EEUU.\n",
        "\n",
        "Puedes descargar el conjunto de datos desde este enlace:\n",
        "https://drive.google.com/file/d/1R_etes5KRoe2g49Ks5qzioF0tPLbXUpw/view?usp=drive_link\n",
        "\n",
        "Una vez lo tengas descargado es importante que sepas donde lo dejaste guardado."
      ],
      "metadata": {
        "id": "fIfu2uqVwEg2"
      }
    },
    {
      "cell_type": "markdown",
      "source": [
        "---"
      ],
      "metadata": {
        "id": "Qg4Qo-tnDD32"
      }
    },
    {
      "cell_type": "markdown",
      "source": [
        "**NOMBRE DEL ALMUMNO:**\n",
        " Escribe aqui tu nombre..."
      ],
      "metadata": {
        "id": "4hfXQg2RC43q"
      }
    },
    {
      "cell_type": "markdown",
      "source": [
        "---"
      ],
      "metadata": {
        "id": "_nzKoe1xDF_G"
      }
    },
    {
      "cell_type": "markdown",
      "source": [
        "# DESCARGA EL ARCHIVO\n"
      ],
      "metadata": {
        "id": "fUNxt68SwCmg"
      }
    },
    {
      "cell_type": "code",
      "execution_count": null,
      "metadata": {
        "colab": {
          "base_uri": "https://localhost:8080/",
          "height": 38
        },
        "id": "xuR4cRwJ05JX",
        "outputId": "dff57fda-0995-43f0-d5a6-b46266f69db0"
      },
      "outputs": [
        {
          "data": {
            "text/html": [
              "\n",
              "     <input type=\"file\" id=\"files-bb70ce01-41dd-4a2f-a035-0c28ea4ea3f2\" name=\"files[]\" multiple disabled\n",
              "        style=\"border:none\" />\n",
              "     <output id=\"result-bb70ce01-41dd-4a2f-a035-0c28ea4ea3f2\">\n",
              "      Upload widget is only available when the cell has been executed in the\n",
              "      current browser session. Please rerun this cell to enable.\n",
              "      </output>\n",
              "      <script>// Copyright 2017 Google LLC\n",
              "//\n",
              "// Licensed under the Apache License, Version 2.0 (the \"License\");\n",
              "// you may not use this file except in compliance with the License.\n",
              "// You may obtain a copy of the License at\n",
              "//\n",
              "//      http://www.apache.org/licenses/LICENSE-2.0\n",
              "//\n",
              "// Unless required by applicable law or agreed to in writing, software\n",
              "// distributed under the License is distributed on an \"AS IS\" BASIS,\n",
              "// WITHOUT WARRANTIES OR CONDITIONS OF ANY KIND, either express or implied.\n",
              "// See the License for the specific language governing permissions and\n",
              "// limitations under the License.\n",
              "\n",
              "/**\n",
              " * @fileoverview Helpers for google.colab Python module.\n",
              " */\n",
              "(function(scope) {\n",
              "function span(text, styleAttributes = {}) {\n",
              "  const element = document.createElement('span');\n",
              "  element.textContent = text;\n",
              "  for (const key of Object.keys(styleAttributes)) {\n",
              "    element.style[key] = styleAttributes[key];\n",
              "  }\n",
              "  return element;\n",
              "}\n",
              "\n",
              "// Max number of bytes which will be uploaded at a time.\n",
              "const MAX_PAYLOAD_SIZE = 100 * 1024;\n",
              "\n",
              "function _uploadFiles(inputId, outputId) {\n",
              "  const steps = uploadFilesStep(inputId, outputId);\n",
              "  const outputElement = document.getElementById(outputId);\n",
              "  // Cache steps on the outputElement to make it available for the next call\n",
              "  // to uploadFilesContinue from Python.\n",
              "  outputElement.steps = steps;\n",
              "\n",
              "  return _uploadFilesContinue(outputId);\n",
              "}\n",
              "\n",
              "// This is roughly an async generator (not supported in the browser yet),\n",
              "// where there are multiple asynchronous steps and the Python side is going\n",
              "// to poll for completion of each step.\n",
              "// This uses a Promise to block the python side on completion of each step,\n",
              "// then passes the result of the previous step as the input to the next step.\n",
              "function _uploadFilesContinue(outputId) {\n",
              "  const outputElement = document.getElementById(outputId);\n",
              "  const steps = outputElement.steps;\n",
              "\n",
              "  const next = steps.next(outputElement.lastPromiseValue);\n",
              "  return Promise.resolve(next.value.promise).then((value) => {\n",
              "    // Cache the last promise value to make it available to the next\n",
              "    // step of the generator.\n",
              "    outputElement.lastPromiseValue = value;\n",
              "    return next.value.response;\n",
              "  });\n",
              "}\n",
              "\n",
              "/**\n",
              " * Generator function which is called between each async step of the upload\n",
              " * process.\n",
              " * @param {string} inputId Element ID of the input file picker element.\n",
              " * @param {string} outputId Element ID of the output display.\n",
              " * @return {!Iterable<!Object>} Iterable of next steps.\n",
              " */\n",
              "function* uploadFilesStep(inputId, outputId) {\n",
              "  const inputElement = document.getElementById(inputId);\n",
              "  inputElement.disabled = false;\n",
              "\n",
              "  const outputElement = document.getElementById(outputId);\n",
              "  outputElement.innerHTML = '';\n",
              "\n",
              "  const pickedPromise = new Promise((resolve) => {\n",
              "    inputElement.addEventListener('change', (e) => {\n",
              "      resolve(e.target.files);\n",
              "    });\n",
              "  });\n",
              "\n",
              "  const cancel = document.createElement('button');\n",
              "  inputElement.parentElement.appendChild(cancel);\n",
              "  cancel.textContent = 'Cancel upload';\n",
              "  const cancelPromise = new Promise((resolve) => {\n",
              "    cancel.onclick = () => {\n",
              "      resolve(null);\n",
              "    };\n",
              "  });\n",
              "\n",
              "  // Wait for the user to pick the files.\n",
              "  const files = yield {\n",
              "    promise: Promise.race([pickedPromise, cancelPromise]),\n",
              "    response: {\n",
              "      action: 'starting',\n",
              "    }\n",
              "  };\n",
              "\n",
              "  cancel.remove();\n",
              "\n",
              "  // Disable the input element since further picks are not allowed.\n",
              "  inputElement.disabled = true;\n",
              "\n",
              "  if (!files) {\n",
              "    return {\n",
              "      response: {\n",
              "        action: 'complete',\n",
              "      }\n",
              "    };\n",
              "  }\n",
              "\n",
              "  for (const file of files) {\n",
              "    const li = document.createElement('li');\n",
              "    li.append(span(file.name, {fontWeight: 'bold'}));\n",
              "    li.append(span(\n",
              "        `(${file.type || 'n/a'}) - ${file.size} bytes, ` +\n",
              "        `last modified: ${\n",
              "            file.lastModifiedDate ? file.lastModifiedDate.toLocaleDateString() :\n",
              "                                    'n/a'} - `));\n",
              "    const percent = span('0% done');\n",
              "    li.appendChild(percent);\n",
              "\n",
              "    outputElement.appendChild(li);\n",
              "\n",
              "    const fileDataPromise = new Promise((resolve) => {\n",
              "      const reader = new FileReader();\n",
              "      reader.onload = (e) => {\n",
              "        resolve(e.target.result);\n",
              "      };\n",
              "      reader.readAsArrayBuffer(file);\n",
              "    });\n",
              "    // Wait for the data to be ready.\n",
              "    let fileData = yield {\n",
              "      promise: fileDataPromise,\n",
              "      response: {\n",
              "        action: 'continue',\n",
              "      }\n",
              "    };\n",
              "\n",
              "    // Use a chunked sending to avoid message size limits. See b/62115660.\n",
              "    let position = 0;\n",
              "    do {\n",
              "      const length = Math.min(fileData.byteLength - position, MAX_PAYLOAD_SIZE);\n",
              "      const chunk = new Uint8Array(fileData, position, length);\n",
              "      position += length;\n",
              "\n",
              "      const base64 = btoa(String.fromCharCode.apply(null, chunk));\n",
              "      yield {\n",
              "        response: {\n",
              "          action: 'append',\n",
              "          file: file.name,\n",
              "          data: base64,\n",
              "        },\n",
              "      };\n",
              "\n",
              "      let percentDone = fileData.byteLength === 0 ?\n",
              "          100 :\n",
              "          Math.round((position / fileData.byteLength) * 100);\n",
              "      percent.textContent = `${percentDone}% done`;\n",
              "\n",
              "    } while (position < fileData.byteLength);\n",
              "  }\n",
              "\n",
              "  // All done.\n",
              "  yield {\n",
              "    response: {\n",
              "      action: 'complete',\n",
              "    }\n",
              "  };\n",
              "}\n",
              "\n",
              "scope.google = scope.google || {};\n",
              "scope.google.colab = scope.google.colab || {};\n",
              "scope.google.colab._files = {\n",
              "  _uploadFiles,\n",
              "  _uploadFilesContinue,\n",
              "};\n",
              "})(self);\n",
              "</script> "
            ],
            "text/plain": [
              "<IPython.core.display.HTML object>"
            ]
          },
          "metadata": {},
          "output_type": "display_data"
        }
      ],
      "source": [
        "import pandas as pd\n",
        "# Este codigo permite importar la libreria pandas, la cual sera util para manejar los datos\n",
        "#\"as pd\" singifica que para usar funciones de pandas debemos escribir pd.nombre_de_funcion\n",
        "\n",
        "from google.colab import files #estas dos lineas de codigo permiten subir el archivo vsc a Google Colab clickeando \"examinar\"\n",
        "uploaded = files.upload()\n"
      ]
    },
    {
      "cell_type": "markdown",
      "source": [
        "## NOTAS ##\n",
        "\n",
        " Esta linea se encarga de contener df en el dataframe"
      ],
      "metadata": {
        "id": "gUtO2xKK0hQi"
      }
    },
    {
      "cell_type": "code",
      "source": [
        "df =pd.read_csv(\"/content/data.csv\")"
      ],
      "metadata": {
        "id": "oDpuu5mB0Z4T"
      },
      "execution_count": 2,
      "outputs": []
    },
    {
      "cell_type": "markdown",
      "metadata": {
        "id": "RAUiBCy3BH6Z"
      },
      "source": [
        "Antes de hacer cualquier otra cosa es importante examinar y entender el dataset, por eso se utilizaran algunas funciones de ejemplo. Como describe, head, shape y dtypes\n",
        "\n"
      ]
    },
    {
      "cell_type": "code",
      "execution_count": null,
      "metadata": {
        "colab": {
          "base_uri": "https://localhost:8080/",
          "height": 320
        },
        "id": "06xl81Q51lty",
        "outputId": "148c9043-8ae0-4736-b2b2-368c3f40ae01"
      },
      "outputs": [
        {
          "data": {
            "text/html": [
              "<div>\n",
              "<style scoped>\n",
              "    .dataframe tbody tr th:only-of-type {\n",
              "        vertical-align: middle;\n",
              "    }\n",
              "\n",
              "    .dataframe tbody tr th {\n",
              "        vertical-align: top;\n",
              "    }\n",
              "\n",
              "    .dataframe thead th {\n",
              "        text-align: right;\n",
              "    }\n",
              "</style>\n",
              "<table border=\"1\" class=\"dataframe\">\n",
              "  <thead>\n",
              "    <tr style=\"text-align: right;\">\n",
              "      <th></th>\n",
              "      <th>id</th>\n",
              "      <th>price</th>\n",
              "      <th>bedrooms</th>\n",
              "      <th>bathrooms</th>\n",
              "      <th>sqft_living</th>\n",
              "      <th>sqft_lot</th>\n",
              "      <th>floors</th>\n",
              "      <th>waterfront</th>\n",
              "      <th>view</th>\n",
              "      <th>condition</th>\n",
              "      <th>grade</th>\n",
              "      <th>sqft_above</th>\n",
              "      <th>sqft_basement</th>\n",
              "      <th>yr_built</th>\n",
              "      <th>yr_renovated</th>\n",
              "      <th>zipcode</th>\n",
              "      <th>lat</th>\n",
              "      <th>long</th>\n",
              "      <th>sqft_living15</th>\n",
              "      <th>sqft_lot15</th>\n",
              "    </tr>\n",
              "  </thead>\n",
              "  <tbody>\n",
              "    <tr>\n",
              "      <th>count</th>\n",
              "      <td>2.161300e+04</td>\n",
              "      <td>2.161300e+04</td>\n",
              "      <td>21613.000000</td>\n",
              "      <td>21613.000000</td>\n",
              "      <td>21613.000000</td>\n",
              "      <td>2.161300e+04</td>\n",
              "      <td>21613.000000</td>\n",
              "      <td>21613.000000</td>\n",
              "      <td>21613.000000</td>\n",
              "      <td>21613.000000</td>\n",
              "      <td>21613.000000</td>\n",
              "      <td>21613.000000</td>\n",
              "      <td>21613.000000</td>\n",
              "      <td>21613.000000</td>\n",
              "      <td>21613.000000</td>\n",
              "      <td>21613.000000</td>\n",
              "      <td>21613.000000</td>\n",
              "      <td>21613.000000</td>\n",
              "      <td>21613.000000</td>\n",
              "      <td>21613.000000</td>\n",
              "    </tr>\n",
              "    <tr>\n",
              "      <th>mean</th>\n",
              "      <td>4.580302e+09</td>\n",
              "      <td>5.400881e+05</td>\n",
              "      <td>3.370842</td>\n",
              "      <td>2.114757</td>\n",
              "      <td>2079.899736</td>\n",
              "      <td>1.510697e+04</td>\n",
              "      <td>1.494309</td>\n",
              "      <td>0.007542</td>\n",
              "      <td>0.234303</td>\n",
              "      <td>3.409430</td>\n",
              "      <td>7.656873</td>\n",
              "      <td>1788.390691</td>\n",
              "      <td>291.509045</td>\n",
              "      <td>1971.005136</td>\n",
              "      <td>84.402258</td>\n",
              "      <td>98077.939805</td>\n",
              "      <td>47.560053</td>\n",
              "      <td>-122.213896</td>\n",
              "      <td>1986.552492</td>\n",
              "      <td>12768.455652</td>\n",
              "    </tr>\n",
              "    <tr>\n",
              "      <th>std</th>\n",
              "      <td>2.876566e+09</td>\n",
              "      <td>3.671272e+05</td>\n",
              "      <td>0.930062</td>\n",
              "      <td>0.770163</td>\n",
              "      <td>918.440897</td>\n",
              "      <td>4.142051e+04</td>\n",
              "      <td>0.539989</td>\n",
              "      <td>0.086517</td>\n",
              "      <td>0.766318</td>\n",
              "      <td>0.650743</td>\n",
              "      <td>1.175459</td>\n",
              "      <td>828.090978</td>\n",
              "      <td>442.575043</td>\n",
              "      <td>29.373411</td>\n",
              "      <td>401.679240</td>\n",
              "      <td>53.505026</td>\n",
              "      <td>0.138564</td>\n",
              "      <td>0.140828</td>\n",
              "      <td>685.391304</td>\n",
              "      <td>27304.179631</td>\n",
              "    </tr>\n",
              "    <tr>\n",
              "      <th>min</th>\n",
              "      <td>1.000102e+06</td>\n",
              "      <td>7.500000e+04</td>\n",
              "      <td>0.000000</td>\n",
              "      <td>0.000000</td>\n",
              "      <td>290.000000</td>\n",
              "      <td>5.200000e+02</td>\n",
              "      <td>1.000000</td>\n",
              "      <td>0.000000</td>\n",
              "      <td>0.000000</td>\n",
              "      <td>1.000000</td>\n",
              "      <td>1.000000</td>\n",
              "      <td>290.000000</td>\n",
              "      <td>0.000000</td>\n",
              "      <td>1900.000000</td>\n",
              "      <td>0.000000</td>\n",
              "      <td>98001.000000</td>\n",
              "      <td>47.155900</td>\n",
              "      <td>-122.519000</td>\n",
              "      <td>399.000000</td>\n",
              "      <td>651.000000</td>\n",
              "    </tr>\n",
              "    <tr>\n",
              "      <th>25%</th>\n",
              "      <td>2.123049e+09</td>\n",
              "      <td>3.219500e+05</td>\n",
              "      <td>3.000000</td>\n",
              "      <td>1.750000</td>\n",
              "      <td>1427.000000</td>\n",
              "      <td>5.040000e+03</td>\n",
              "      <td>1.000000</td>\n",
              "      <td>0.000000</td>\n",
              "      <td>0.000000</td>\n",
              "      <td>3.000000</td>\n",
              "      <td>7.000000</td>\n",
              "      <td>1190.000000</td>\n",
              "      <td>0.000000</td>\n",
              "      <td>1951.000000</td>\n",
              "      <td>0.000000</td>\n",
              "      <td>98033.000000</td>\n",
              "      <td>47.471000</td>\n",
              "      <td>-122.328000</td>\n",
              "      <td>1490.000000</td>\n",
              "      <td>5100.000000</td>\n",
              "    </tr>\n",
              "    <tr>\n",
              "      <th>50%</th>\n",
              "      <td>3.904930e+09</td>\n",
              "      <td>4.500000e+05</td>\n",
              "      <td>3.000000</td>\n",
              "      <td>2.250000</td>\n",
              "      <td>1910.000000</td>\n",
              "      <td>7.618000e+03</td>\n",
              "      <td>1.500000</td>\n",
              "      <td>0.000000</td>\n",
              "      <td>0.000000</td>\n",
              "      <td>3.000000</td>\n",
              "      <td>7.000000</td>\n",
              "      <td>1560.000000</td>\n",
              "      <td>0.000000</td>\n",
              "      <td>1975.000000</td>\n",
              "      <td>0.000000</td>\n",
              "      <td>98065.000000</td>\n",
              "      <td>47.571800</td>\n",
              "      <td>-122.230000</td>\n",
              "      <td>1840.000000</td>\n",
              "      <td>7620.000000</td>\n",
              "    </tr>\n",
              "    <tr>\n",
              "      <th>75%</th>\n",
              "      <td>7.308900e+09</td>\n",
              "      <td>6.450000e+05</td>\n",
              "      <td>4.000000</td>\n",
              "      <td>2.500000</td>\n",
              "      <td>2550.000000</td>\n",
              "      <td>1.068800e+04</td>\n",
              "      <td>2.000000</td>\n",
              "      <td>0.000000</td>\n",
              "      <td>0.000000</td>\n",
              "      <td>4.000000</td>\n",
              "      <td>8.000000</td>\n",
              "      <td>2210.000000</td>\n",
              "      <td>560.000000</td>\n",
              "      <td>1997.000000</td>\n",
              "      <td>0.000000</td>\n",
              "      <td>98118.000000</td>\n",
              "      <td>47.678000</td>\n",
              "      <td>-122.125000</td>\n",
              "      <td>2360.000000</td>\n",
              "      <td>10083.000000</td>\n",
              "    </tr>\n",
              "    <tr>\n",
              "      <th>max</th>\n",
              "      <td>9.900000e+09</td>\n",
              "      <td>7.700000e+06</td>\n",
              "      <td>33.000000</td>\n",
              "      <td>8.000000</td>\n",
              "      <td>13540.000000</td>\n",
              "      <td>1.651359e+06</td>\n",
              "      <td>3.500000</td>\n",
              "      <td>1.000000</td>\n",
              "      <td>4.000000</td>\n",
              "      <td>5.000000</td>\n",
              "      <td>13.000000</td>\n",
              "      <td>9410.000000</td>\n",
              "      <td>4820.000000</td>\n",
              "      <td>2015.000000</td>\n",
              "      <td>2015.000000</td>\n",
              "      <td>98199.000000</td>\n",
              "      <td>47.777600</td>\n",
              "      <td>-121.315000</td>\n",
              "      <td>6210.000000</td>\n",
              "      <td>871200.000000</td>\n",
              "    </tr>\n",
              "  </tbody>\n",
              "</table>\n",
              "</div>"
            ],
            "text/plain": [
              "                 id         price  ...  sqft_living15     sqft_lot15\n",
              "count  2.161300e+04  2.161300e+04  ...   21613.000000   21613.000000\n",
              "mean   4.580302e+09  5.400881e+05  ...    1986.552492   12768.455652\n",
              "std    2.876566e+09  3.671272e+05  ...     685.391304   27304.179631\n",
              "min    1.000102e+06  7.500000e+04  ...     399.000000     651.000000\n",
              "25%    2.123049e+09  3.219500e+05  ...    1490.000000    5100.000000\n",
              "50%    3.904930e+09  4.500000e+05  ...    1840.000000    7620.000000\n",
              "75%    7.308900e+09  6.450000e+05  ...    2360.000000   10083.000000\n",
              "max    9.900000e+09  7.700000e+06  ...    6210.000000  871200.000000\n",
              "\n",
              "[8 rows x 20 columns]"
            ]
          },
          "execution_count": 50,
          "metadata": {
            "tags": []
          },
          "output_type": "execute_result"
        }
      ],
      "source": [
        "df.describe() # la funcion describe nos muestra un buen resumen del dataset"
      ]
    },
    {
      "cell_type": "code",
      "execution_count": null,
      "metadata": {
        "colab": {
          "base_uri": "https://localhost:8080/",
          "height": 226
        },
        "id": "QWJA68ry1xpV",
        "outputId": "4ce5f3dc-211f-4198-e0df-a29890804ff3"
      },
      "outputs": [
        {
          "data": {
            "text/html": [
              "<div>\n",
              "<style scoped>\n",
              "    .dataframe tbody tr th:only-of-type {\n",
              "        vertical-align: middle;\n",
              "    }\n",
              "\n",
              "    .dataframe tbody tr th {\n",
              "        vertical-align: top;\n",
              "    }\n",
              "\n",
              "    .dataframe thead th {\n",
              "        text-align: right;\n",
              "    }\n",
              "</style>\n",
              "<table border=\"1\" class=\"dataframe\">\n",
              "  <thead>\n",
              "    <tr style=\"text-align: right;\">\n",
              "      <th></th>\n",
              "      <th>id</th>\n",
              "      <th>date</th>\n",
              "      <th>price</th>\n",
              "      <th>bedrooms</th>\n",
              "      <th>bathrooms</th>\n",
              "      <th>sqft_living</th>\n",
              "      <th>sqft_lot</th>\n",
              "      <th>floors</th>\n",
              "      <th>waterfront</th>\n",
              "      <th>view</th>\n",
              "      <th>condition</th>\n",
              "      <th>grade</th>\n",
              "      <th>sqft_above</th>\n",
              "      <th>sqft_basement</th>\n",
              "      <th>yr_built</th>\n",
              "      <th>yr_renovated</th>\n",
              "      <th>zipcode</th>\n",
              "      <th>lat</th>\n",
              "      <th>long</th>\n",
              "      <th>sqft_living15</th>\n",
              "      <th>sqft_lot15</th>\n",
              "    </tr>\n",
              "  </thead>\n",
              "  <tbody>\n",
              "    <tr>\n",
              "      <th>0</th>\n",
              "      <td>7129300520</td>\n",
              "      <td>20141013T000000</td>\n",
              "      <td>221900.0</td>\n",
              "      <td>3</td>\n",
              "      <td>1.00</td>\n",
              "      <td>1180</td>\n",
              "      <td>5650</td>\n",
              "      <td>1.0</td>\n",
              "      <td>0</td>\n",
              "      <td>0</td>\n",
              "      <td>3</td>\n",
              "      <td>7</td>\n",
              "      <td>1180</td>\n",
              "      <td>0</td>\n",
              "      <td>1955</td>\n",
              "      <td>0</td>\n",
              "      <td>98178</td>\n",
              "      <td>47.5112</td>\n",
              "      <td>-122.257</td>\n",
              "      <td>1340</td>\n",
              "      <td>5650</td>\n",
              "    </tr>\n",
              "    <tr>\n",
              "      <th>1</th>\n",
              "      <td>6414100192</td>\n",
              "      <td>20141209T000000</td>\n",
              "      <td>538000.0</td>\n",
              "      <td>3</td>\n",
              "      <td>2.25</td>\n",
              "      <td>2570</td>\n",
              "      <td>7242</td>\n",
              "      <td>2.0</td>\n",
              "      <td>0</td>\n",
              "      <td>0</td>\n",
              "      <td>3</td>\n",
              "      <td>7</td>\n",
              "      <td>2170</td>\n",
              "      <td>400</td>\n",
              "      <td>1951</td>\n",
              "      <td>1991</td>\n",
              "      <td>98125</td>\n",
              "      <td>47.7210</td>\n",
              "      <td>-122.319</td>\n",
              "      <td>1690</td>\n",
              "      <td>7639</td>\n",
              "    </tr>\n",
              "    <tr>\n",
              "      <th>2</th>\n",
              "      <td>5631500400</td>\n",
              "      <td>20150225T000000</td>\n",
              "      <td>180000.0</td>\n",
              "      <td>2</td>\n",
              "      <td>1.00</td>\n",
              "      <td>770</td>\n",
              "      <td>10000</td>\n",
              "      <td>1.0</td>\n",
              "      <td>0</td>\n",
              "      <td>0</td>\n",
              "      <td>3</td>\n",
              "      <td>6</td>\n",
              "      <td>770</td>\n",
              "      <td>0</td>\n",
              "      <td>1933</td>\n",
              "      <td>0</td>\n",
              "      <td>98028</td>\n",
              "      <td>47.7379</td>\n",
              "      <td>-122.233</td>\n",
              "      <td>2720</td>\n",
              "      <td>8062</td>\n",
              "    </tr>\n",
              "    <tr>\n",
              "      <th>3</th>\n",
              "      <td>2487200875</td>\n",
              "      <td>20141209T000000</td>\n",
              "      <td>604000.0</td>\n",
              "      <td>4</td>\n",
              "      <td>3.00</td>\n",
              "      <td>1960</td>\n",
              "      <td>5000</td>\n",
              "      <td>1.0</td>\n",
              "      <td>0</td>\n",
              "      <td>0</td>\n",
              "      <td>5</td>\n",
              "      <td>7</td>\n",
              "      <td>1050</td>\n",
              "      <td>910</td>\n",
              "      <td>1965</td>\n",
              "      <td>0</td>\n",
              "      <td>98136</td>\n",
              "      <td>47.5208</td>\n",
              "      <td>-122.393</td>\n",
              "      <td>1360</td>\n",
              "      <td>5000</td>\n",
              "    </tr>\n",
              "    <tr>\n",
              "      <th>4</th>\n",
              "      <td>1954400510</td>\n",
              "      <td>20150218T000000</td>\n",
              "      <td>510000.0</td>\n",
              "      <td>3</td>\n",
              "      <td>2.00</td>\n",
              "      <td>1680</td>\n",
              "      <td>8080</td>\n",
              "      <td>1.0</td>\n",
              "      <td>0</td>\n",
              "      <td>0</td>\n",
              "      <td>3</td>\n",
              "      <td>8</td>\n",
              "      <td>1680</td>\n",
              "      <td>0</td>\n",
              "      <td>1987</td>\n",
              "      <td>0</td>\n",
              "      <td>98074</td>\n",
              "      <td>47.6168</td>\n",
              "      <td>-122.045</td>\n",
              "      <td>1800</td>\n",
              "      <td>7503</td>\n",
              "    </tr>\n",
              "  </tbody>\n",
              "</table>\n",
              "</div>"
            ],
            "text/plain": [
              "           id             date     price  ...     long  sqft_living15  sqft_lot15\n",
              "0  7129300520  20141013T000000  221900.0  ... -122.257           1340        5650\n",
              "1  6414100192  20141209T000000  538000.0  ... -122.319           1690        7639\n",
              "2  5631500400  20150225T000000  180000.0  ... -122.233           2720        8062\n",
              "3  2487200875  20141209T000000  604000.0  ... -122.393           1360        5000\n",
              "4  1954400510  20150218T000000  510000.0  ... -122.045           1800        7503\n",
              "\n",
              "[5 rows x 21 columns]"
            ]
          },
          "execution_count": 37,
          "metadata": {
            "tags": []
          },
          "output_type": "execute_result"
        }
      ],
      "source": [
        "df.head() # la funcion head nos muestra los primeros 5 elementos del dataset"
      ]
    },
    {
      "cell_type": "code",
      "execution_count": null,
      "metadata": {
        "colab": {
          "base_uri": "https://localhost:8080/"
        },
        "id": "9MFZiELsHh2q",
        "outputId": "b4c14d78-4359-413f-9c1a-5876c6f1537f"
      },
      "outputs": [
        {
          "data": {
            "text/plain": [
              "(21613, 21)"
            ]
          },
          "execution_count": 38,
          "metadata": {
            "tags": []
          },
          "output_type": "execute_result"
        }
      ],
      "source": [
        "df.shape # la funcion shape nos da la forma del dataset en este formato (Cantidad de filas, cantidad de columnas)\n",
        "\n",
        "#Las cantidad de filas representa la cantidad de casas del dataset\n",
        "#La cantidad de columnas representa la cantidad de atributos o datos que tiene cada casa del dataset"
      ]
    },
    {
      "cell_type": "code",
      "execution_count": null,
      "metadata": {
        "colab": {
          "base_uri": "https://localhost:8080/"
        },
        "id": "8sT6d24I18Qm",
        "outputId": "30734b73-268f-4f8c-fe8c-b78a65c3407b"
      },
      "outputs": [
        {
          "data": {
            "text/plain": [
              "id                 int64\n",
              "date              object\n",
              "price            float64\n",
              "bedrooms           int64\n",
              "bathrooms        float64\n",
              "sqft_living        int64\n",
              "sqft_lot           int64\n",
              "floors           float64\n",
              "waterfront         int64\n",
              "view               int64\n",
              "condition          int64\n",
              "grade              int64\n",
              "sqft_above         int64\n",
              "sqft_basement      int64\n",
              "yr_built           int64\n",
              "yr_renovated       int64\n",
              "zipcode            int64\n",
              "lat              float64\n",
              "long             float64\n",
              "sqft_living15      int64\n",
              "sqft_lot15         int64\n",
              "dtype: object"
            ]
          },
          "execution_count": 39,
          "metadata": {
            "tags": []
          },
          "output_type": "execute_result"
        }
      ],
      "source": [
        "df.dtypes # la funcion dtypes nos muestra los tipos de variables del dataset, podemos ver que la mayoria son numeros enteros"
      ]
    },
    {
      "cell_type": "markdown",
      "source": [
        "## CORRELACION"
      ],
      "metadata": {
        "id": "E7UQxB3Y-2ol"
      }
    },
    {
      "cell_type": "code",
      "source": [
        "correlations = df.corr()['price']\n",
        "\n",
        "# la funcion corr nos permite obtener las correlaciones entre las distintas variables\n",
        "# En este caso selecionamos del dataframe la variable \"price\" (precio), por lo cual\n",
        "# obtendremos las relaciones entre esta variable y las demas\n",
        "# Entre mas cercano a 1 sea el valor mayor es la correlacion y mejor es la variable para predecir \"price\"\n",
        "\n",
        "print(correlations) # imprimimos los valores"
      ],
      "metadata": {
        "id": "US6tkA5p615F"
      },
      "execution_count": null,
      "outputs": []
    },
    {
      "cell_type": "markdown",
      "source": [
        "## <font color=\"red\">PRIMERA PARTE- CUESTIONARIO</font>"
      ],
      "metadata": {
        "id": "sdzT1OtT0zfu"
      }
    },
    {
      "cell_type": "markdown",
      "source": [
        "1.   ¿Que es el coeficiente de correlacion entre dos variables?\n",
        "2.   Indicar los 4 atributos que tienena la mayor correlacion positiva.\n",
        "3.   Indicar los atributos que tienen correlacion negativa.\n",
        "4.   ¿Que significa una correlacion igual o cercana a 1?\n",
        "\n"
      ],
      "metadata": {
        "id": "9pqTf8Yi029F"
      }
    },
    {
      "cell_type": "markdown",
      "source": [
        "## <font color=\"red\">RESPUESTAS</font>"
      ],
      "metadata": {
        "id": "5L640-kW-p8e"
      }
    },
    {
      "cell_type": "markdown",
      "source": [
        "1."
      ],
      "metadata": {
        "id": "EmwUVMkS03Dj"
      }
    },
    {
      "cell_type": "markdown",
      "source": [
        "2."
      ],
      "metadata": {
        "id": "u46s9Rmc7EZi"
      }
    },
    {
      "cell_type": "markdown",
      "source": [
        "3."
      ],
      "metadata": {
        "id": "TO5eUJ3f03Jb"
      }
    },
    {
      "cell_type": "markdown",
      "source": [
        "4.\n"
      ],
      "metadata": {
        "id": "0M7_qh4n-xFz"
      }
    },
    {
      "cell_type": "markdown",
      "source": [
        "## <font color=\"red\">Muestra la matrix de Correlacion</font>\n",
        "\n",
        "\n",
        "Muestra la matriz de correlacion de todas las variables, utilizando las librerias matplotlib, pandas y seaborn"
      ],
      "metadata": {
        "id": "kNAaz0W1-8DH"
      }
    },
    {
      "cell_type": "code",
      "source": [],
      "metadata": {
        "id": "a-gr7gBc_C-m"
      },
      "execution_count": null,
      "outputs": []
    },
    {
      "cell_type": "markdown",
      "source": [
        "---"
      ],
      "metadata": {
        "id": "TuNSUEnc_DpN"
      }
    },
    {
      "cell_type": "markdown",
      "source": [
        "# **REGRESION LINEAL**"
      ],
      "metadata": {
        "id": "3Pxu3JNZ_WUs"
      }
    },
    {
      "cell_type": "markdown",
      "metadata": {
        "id": "S04SOLnnKHkK"
      },
      "source": [
        "Al igual que con la metrica R2, entre más cercano a 1 sea el valor de correlación mejor."
      ]
    },
    {
      "cell_type": "markdown",
      "metadata": {
        "id": "EVTWDMOwHZvu"
      },
      "source": [
        "Al usar la función shape la consola debería haber mostrado que el dataset contiene 21613, lo cual puede ser una cantidad incomoda para visualizar en gráficas como haremos más adelante. Por este motivo en el siguiente bloque de codigo vamos a \"achicar el dataset\", dejando solo 15 casas para analizar. Más adelante usaremos todo el dataset y podremos comparar resultados."
      ]
    },
    {
      "cell_type": "code",
      "execution_count": null,
      "metadata": {
        "id": "WsG72x0UdT42"
      },
      "outputs": [],
      "source": [
        "df_min = df.sample(15, random_state=10) #creamos un nuevo dataset al cual copiamos 15 valores del dataset original\n",
        "# random_state=10 es un valor que deberias mantener igual si quieres obtener las mismas graficas, es basicamente la forma de asegurarse de que los 15 datos que seleccionamos sean los mismos\n",
        "# si pongo otro valor como random state el conjunto de 15 datos seria diferente\n",
        "\n",
        "from sklearn.linear_model import LinearRegression # Sklearn es la libreria de machine leaarning que estaremos usando, por ahora solo usaremos su funcion de Regresion lineal\n",
        "X = df_min['sqft_living'].values.reshape(-1,1) # Definimos como X los valores de la columna que contiene el área de la vivienda en pies cuadrados\n",
        "# \".values.reshape(-1,1)\" es necesario para luego utilizar la funcion fit, es sencillamente algo relacionado a ajustar el formato del Array no te preocupes ahora por entender del todo su funcionamiento\n",
        "\n",
        "y = df_min['price'].values.reshape(-1,1)  # Definimos como Y la columna que contiene los precios de las viviendas\n",
        "\n",
        "\n"
      ]
    },
    {
      "cell_type": "code",
      "execution_count": null,
      "metadata": {
        "colab": {
          "base_uri": "https://localhost:8080/",
          "height": 313
        },
        "id": "kgWHG1H9Fyzw",
        "outputId": "82320ca1-21f4-4477-d8a8-078f0818bbe5"
      },
      "outputs": [
        {
          "data": {
            "text/plain": [
              "Text(0.5, 0, 'Superficie en pies cuadrados')"
            ]
          },
          "execution_count": 42,
          "metadata": {
            "tags": []
          },
          "output_type": "execute_result"
        },
        {
          "data": {
            "image/png": "[encoded data removed]",
            "text/plain": [
              "<Figure size 432x288 with 1 Axes>"
            ]
          },
          "metadata": {
            "tags": []
          },
          "output_type": "display_data"
        }
      ],
      "source": [
        "import matplotlib.pyplot as plt # Esta libreria tiene herramientas para graficar\n",
        "\n",
        "\n",
        "# Ahora que tenemos un conjunto de datos mas pequeño deberia ser facil graficarlo\n",
        "\n",
        "plt.scatter(X,y) # Genera una grafica de puntos\n",
        "\n",
        "plt.title('Demostración de Regresión Lineal') # Agrego un titulo\n",
        "plt.ylabel('Valor de las casas') # defino un nombre del eje y\n",
        "plt.xlabel('Superficie en pies cuadrados') # defino un nombre del eje x"
      ]
    },
    {
      "cell_type": "code",
      "execution_count": null,
      "metadata": {
        "id": "BQw_tNg3e23H"
      },
      "outputs": [],
      "source": [
        "reg = LinearRegression().fit(X,y)\n",
        "# La funcion fit relaciona los valores de X e y, mientras que Linear Regression calcula la recta\n",
        "# la recta (y = mx + b) obtenida se guarda en la variable reg"
      ]
    },
    {
      "cell_type": "markdown",
      "metadata": {
        "id": "pBohDTaDEY8k"
      },
      "source": [
        "Matematicamente, los valores obtenidos a través de la recta se representan matemáticamente así: *ŷ*, para diferenciarlo de la *y* común, la cual en este caso contiene los valores de precios. Como a *ŷ* se le suele decir \"y con sombrero\" (en inglés \"hat\" es \"sombrero\") llamaremos a la variable que contiene los valores predecidos y_hat, lo cual seria como llamarla y_con_sombrero"
      ]
    },
    {
      "cell_type": "code",
      "execution_count": null,
      "metadata": {
        "colab": {
          "base_uri": "https://localhost:8080/"
        },
        "id": "uTxjuUYlFmEg",
        "outputId": "48183a78-7fa3-4f13-c304-5d3e99223f31"
      },
      "outputs": [
        {
          "name": "stdout",
          "output_type": "stream",
          "text": [
            "[[ 599907.47572331]\n",
            " [ 643987.57285175]\n",
            " [ -13823.1073727 ]\n",
            " [ 359162.32986797]\n",
            " [ 464276.4076358 ]\n",
            " [ 338817.66965484]\n",
            " [ 657550.67966051]\n",
            " [ 372725.43667672]\n",
            " [ 365943.88327235]\n",
            " [ 732147.76710864]\n",
            " [ 786400.19434365]\n",
            " [ 708412.33019332]\n",
            " [1373004.56382215]\n",
            " [ 854215.7283874 ]\n",
            " [ 833871.06817428]]\n"
          ]
        }
      ],
      "source": [
        "y_hat = reg.predict(X) # Sustituimos en la recta (y = mx + b) nuestros valores iniciales de X\n",
        "print(y_hat) # guardamos los resultados en y_hat"
      ]
    },
    {
      "cell_type": "code",
      "execution_count": null,
      "metadata": {
        "colab": {
          "base_uri": "https://localhost:8080/",
          "height": 313
        },
        "id": "iB1oUM8ifpzA",
        "outputId": "28b6f73b-7119-4ae9-83dc-d2592aabe0f5"
      },
      "outputs": [
        {
          "data": {
            "text/plain": [
              "Text(0.5, 0, 'Superficie en pies cuadrados')"
            ]
          },
          "execution_count": 52,
          "metadata": {
            "tags": []
          },
          "output_type": "execute_result"
        },
        {
          "data": {
            "image/png": "[encoded data removed]",
            "text/plain": [
              "<Figure size 432x288 with 1 Axes>"
            ]
          },
          "metadata": {
            "tags": []
          },
          "output_type": "display_data"
        }
      ],
      "source": [
        "import matplotlib.pyplot as plt # Esta libreria tiene herramientas para graficar\n",
        "\n",
        "# Recreamos la misma grafica pero ahora se muestra la recta obtenida\n",
        "\n",
        "plt.scatter(X,y)\n",
        "plt.plot(X, y_hat, color='green')\n",
        "\n",
        "plt.title('Demostración de Regresión Lineal') # Agrego un titulo\n",
        "plt.ylabel('Valor de las casas') # defino un nombre del eje y\n",
        "plt.xlabel('Superficie en pies cuadrados') # defino un nombre del eje x"
      ]
    },
    {
      "cell_type": "code",
      "execution_count": null,
      "metadata": {
        "colab": {
          "base_uri": "https://localhost:8080/",
          "height": 295
        },
        "id": "1ijlu5bu3uYf",
        "outputId": "b116b271-118d-49a7-c0e1-70e2411fb91c"
      },
      "outputs": [
        {
          "data": {
            "image/png": "[encoded data removed]",
            "text/plain": [
              "<Figure size 432x288 with 1 Axes>"
            ]
          },
          "metadata": {
            "tags": []
          },
          "output_type": "display_data"
        }
      ],
      "source": [
        "import matplotlib.pyplot as plt # Esta libreria tiene herramientas para graficar\n",
        "\n",
        "# Recreamos la misma grafica pero ahora se muestra la recta obtenida\n",
        "\n",
        "plt.scatter(X,y) # Grafica de dispersion, muestra los puntos iniciales\n",
        "\n",
        "plt.scatter(X,y_hat, color='red')\n",
        "\n",
        "# grafica de dispersion, muestra los puntos que se obtienen al sustituir nuestros valores iniciales de X en la ecuacion y = mx + b obtenida mediante regresion\n",
        "\n",
        "plt.plot(X, y_hat, color='green') # Dibuja la linea de regresion\n",
        "\n",
        "\n",
        "plt.title('Demostración de Regresión Lineal') # asigna titulo a la grafica\n",
        "plt.ylabel('Valor de las casas') # asigna nombre al eje y de la grafica\n",
        "plt.xlabel('Superficie en pies cuadrados') # asigna nombre al eje x de la grafica\n",
        "\n",
        "# No preocuparse demasiado por esta parte, al igual que las otras graficas no es necesaria\n",
        "# pero ayuda a visualizar que esta pasando\n",
        "\n",
        "# Esto es un loop, el cual recorre todos los valores de los conjuntos X, y, y_hat\n",
        "# a medida que los recorre va dibujando lineas punteadas para ilustrar el error de la regresion\n",
        "for i in range(0, len(X)):\n",
        "  point1 = [X[i], y[i]]\n",
        "  point2 = [X[i], y_hat[i]]\n",
        "\n",
        "  x_values = [point1[0], point2[0]]\n",
        "  y_values = [point1[1], point2[1]]\n",
        "\n",
        "  plt.plot(x_values, y_values, color='red', linestyle='dashed')\n",
        "\n"
      ]
    },
    {
      "cell_type": "markdown",
      "metadata": {
        "id": "fWkeUhd_HaT8"
      },
      "source": [
        "En este momento en la variable y tenemos los valores de precios originales, mientras que en y_hat tenemos los valores de precios obtenidos mediante la regresión lineal. Si comparamos la diferencia entre estos valores podemos obtener el R2 de la recta.\n"
      ]
    },
    {
      "cell_type": "code",
      "execution_count": null,
      "metadata": {
        "colab": {
          "base_uri": "https://localhost:8080/"
        },
        "id": "0gVxAjjkiC1i",
        "outputId": "c980bd19-9da0-4733-966e-91b54c32eac8"
      },
      "outputs": [
        {
          "data": {
            "text/plain": [
              "0.71610957246548"
            ]
          },
          "execution_count": 47,
          "metadata": {
            "tags": []
          },
          "output_type": "execute_result"
        }
      ],
      "source": [
        "from sklearn.metrics import r2_score\n",
        "r2_score(y, y_hat)\n",
        "# |\n",
        "# |\n",
        "# | Deberia aparecer el r2 una vez ejecutes este codigo\n",
        "# |\n",
        "# ↓"
      ]
    },
    {
      "cell_type": "markdown",
      "metadata": {
        "id": "Bc1CrxRGIFEI"
      },
      "source": [
        "Al momento de escribir este texto el R2 obtenido es de 0.71610957246548, o sea, un gran modelo. :)\n",
        "Pero es momento de recordar que de los miles de datos del dataset utilizamos solo 15. ¿Qué sucede si los usamos todos?"
      ]
    },
    {
      "cell_type": "code",
      "execution_count": null,
      "metadata": {
        "colab": {
          "base_uri": "https://localhost:8080/",
          "height": 313
        },
        "id": "rAMOkfX9iTil",
        "outputId": "3f0c1875-2bce-4952-fdfd-9d8a313b0b4d"
      },
      "outputs": [
        {
          "data": {
            "text/plain": [
              "Text(0.5, 0, 'Superficie en pies cuadrados')"
            ]
          },
          "execution_count": 48,
          "metadata": {
            "tags": []
          },
          "output_type": "execute_result"
        },
        {
          "data": {
            "image/png": "[encoded data removed]",
            "text/plain": [
              "<Figure size 432x288 with 1 Axes>"
            ]
          },
          "metadata": {
            "tags": []
          },
          "output_type": "display_data"
        }
      ],
      "source": [
        "# Defino nuevos valores de X e y pero con un 1 al final para no repetir nombres de variables\n",
        "\n",
        "X1 = df['sqft_living'].values.reshape(-1,1)\n",
        "y1 = df['price']\n",
        "\n",
        "# vuelvo a usar las herramientas de regresion\n",
        "\n",
        "reg = LinearRegression().fit(X1,y1)\n",
        "y_hat1 = reg.predict(X1)\n",
        "\n",
        "# Y grafico nuevamente\n",
        "plt.scatter(X1,y1)\n",
        "plt.plot(X1, y_hat1, color='green')\n",
        "plt.title('Demostración de Regresión Lineal')\n",
        "plt.ylabel('Valor de las casas')\n",
        "plt.xlabel('Superficie en pies cuadrados')"
      ]
    },
    {
      "cell_type": "markdown",
      "metadata": {
        "id": "z-J9CuF5IjQT"
      },
      "source": [
        "Ahora que tengo todos los datos la recta ya no parece tan representativa, ¿No?\n",
        "\n",
        "Veamos su valor de R2"
      ]
    },
    {
      "cell_type": "code",
      "execution_count": null,
      "metadata": {
        "colab": {
          "base_uri": "https://localhost:8080/"
        },
        "id": "M0IRiXzkDItk",
        "outputId": "06c6cb70-825a-475a-a697-4a104a168391"
      },
      "outputs": [
        {
          "data": {
            "text/plain": [
              "0.4928532179037931"
            ]
          },
          "execution_count": 49,
          "metadata": {
            "tags": []
          },
          "output_type": "execute_result"
        }
      ],
      "source": [
        "r2_score(y1, y_hat1)\n",
        "# |\n",
        "# |\n",
        "# | Deberia aparecer el r2 una vez ejecutes este codigo\n",
        "# |\n",
        "# ↓"
      ]
    },
    {
      "cell_type": "markdown",
      "metadata": {
        "id": "j60cKvfVIw1J"
      },
      "source": [
        "El valor de R2 obtenido deberia ser de 0.4928532179037931, un valor mucho menor y no muy útil. ¿Por qué sucede esto?\n",
        "La respuesta es bastante sencilla, con el primer conjunto de datos tuvimos \"suerte\" de que los pocos valores caian cerca de la recta. Pero al utilizar todos los datos del dataset se mostró que una recta que considera solo dos variables no es suficiente para predecir de forma adecuada el valor de las casas, resulta que hay muchos otros factores que afectan."
      ]
    },
    {
      "cell_type": "markdown",
      "metadata": {
        "id": "D-nLMfXeJUQ2"
      },
      "source": [
        "Al imprimir nuevamente las correlaciones podemos ver que hay otras variables que tienen una alta relación con la variable de precio. Todas estas variables también son importantes y no las estamos considerando. Por este motivo,el trabajo consiste en mostrar como hacer regresiones con múltiples variables."
      ]
    },
    {
      "cell_type": "markdown",
      "metadata": {
        "id": "ooaRb_ts3L5d"
      },
      "source": [
        "## <font color=\"red\">Conclusiones y trabajo final\n",
        "</font>\n",
        "\n",
        "\n",
        "\n",
        "Este ejemplo muestra como la presición de un modelo puede volverse engañosa si tenemos en cuenta solo un subgrupo de datos en lugar de todo el conjunto.\n",
        "Además comprueba algo que sabemos instintivamente, en ciertas situaciones una variable no es suficiente para poder predecir otra, siendo en este caso la superficie cuadrada de una casa insuficiente para predecir de forma precisa el valor de la misma.\n",
        "\n",
        "Otro tema a mencionar es que en este ejercicio **no se separó el dataset en conjuntos de entrenamiento y validación**, lo cual haría este modelo poco confiable para predecir valores en casos reales. En este caso esto no es un problema ya que inicialmente se concluyó que una sola variable jamás podría ser suficiente para predecir precios, pero en caso de querer obtener un modelo verdaderamente útil es necesario el realizar esta separacion de datos.\n",
        "\n",
        "1. EL tarea en esta ultima partes es mostrar el uso de múltiples variables y la separación de datos en conjuntos de entrenamiento y validación.\n",
        "2. Generar un modelo de regresion lineal multiple con la data de entrenamiento.\n",
        "2. Realizar la estimación del RMSE y R2."
      ]
    },
    {
      "cell_type": "code",
      "source": [],
      "metadata": {
        "id": "hKcFa6iQAAZa"
      },
      "execution_count": null,
      "outputs": []
    },
    {
      "cell_type": "code",
      "source": [],
      "metadata": {
        "id": "I-5-1iBHBUSK"
      },
      "execution_count": null,
      "outputs": []
    },
    {
      "cell_type": "code",
      "source": [],
      "metadata": {
        "id": "2O2a1xVYBUZS"
      },
      "execution_count": null,
      "outputs": []
    },
    {
      "cell_type": "code",
      "source": [],
      "metadata": {
        "id": "4muSibUmBUmB"
      },
      "execution_count": null,
      "outputs": []
    },
    {
      "cell_type": "code",
      "source": [],
      "metadata": {
        "id": "UvFq5BiiBUv8"
      },
      "execution_count": null,
      "outputs": []
    },
    {
      "cell_type": "code",
      "source": [],
      "metadata": {
        "id": "IF6iqVLOBU7y"
      },
      "execution_count": null,
      "outputs": []
    }
  ],
  "metadata": {
    "colab": {
      "provenance": [],
      "toc_visible": true
    },
    "kernelspec": {
      "display_name": "Python 3",
      "name": "python3"
    }
  },
  "nbformat": 4,
  "nbformat_minor": 0
}