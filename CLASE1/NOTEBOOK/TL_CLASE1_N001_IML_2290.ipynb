{
 "cells": [
  {
   "cell_type": "markdown",
   "metadata": {
    "id": "RXYFfyEuLVCB"
   },
   "source": [
    "<img src=\"https://i.pinimg.com/originals/ee/2e/24/ee2e246795a13abc1fe01b28776626ef.jpg\" alt= \"LOGO CAT\" width=400 height=400 align = \"right\">\n",
    "\n",
    "<br>\n",
    "<h1><font color=\"#7F000E\" size=5>TOULOUSE LAUTREC </font></h1>\n",
    "<h1><font color=\"#7F000R\" size=6> APRENDIZAJE AUTOMATICO CON PYTHON </font></h1>\n",
    "<h1><font color=\"#7F000E\" size=4> MACHINE LEARNING </font></h1>\n",
    "<br>\n",
    "<br>\n",
    "<div style=\"text-align:right\">\n",
    "<font color=\"#7F000E\" size=3> Ing. Alexander Valdez</font><br>\n",
    "<font color=\"#7F000E\" size=3> Curso 2290, Clases Lunes y Miercoles 20:00-22:30pm </font><br>\n",
    "<font color=\"#7F000e\" size=3> Primera Clase </font><br>\n",
    "</div>"
   ]
  },
  {
   "cell_type": "markdown",
   "metadata": {
    "id": "_75VsAnjLdEw"
   },
   "source": [
    "---"
   ]
  },
  {
   "cell_type": "markdown",
   "metadata": {
    "id": "yGCi3jLUL4ET"
   },
   "source": [
    "Esta parte inicial  es una introducción al tema muy amplio del aprendizaje automático, principalmente a través del paquete **Scikit-Learn** de Python.\n",
    "\n",
    "Puede pensar en el aprendizaje automático como una clase de algoritmos que permiten a un programa detectar patrones particulares en un conjunto de datos y, por lo tanto, \"aprender\" de los datos para sacar inferencias a partir de ellos. Esta  ser una introducción completa al campo del aprendizaje automático.\n",
    "Los objetivos aquí son:\n",
    "\n",
    "* Introducir el vocabulario y los conceptos fundamentales del aprendizaje automático.\n",
    "* Presentar la API Scikit-Learn y mostrar algunos ejemplos de su uso.\n",
    "* Profundizar en los detalles de varios de los enfoques clásicos de aprendizaje automático más importantes y desarrollar una intuición sobre cómo funcionan y cuándo y dónde son aplicables.\n",
    "\n",
    "Gran parte de este material se extrae de los tutoriales y talleres de Scikit-Learn que se he impartido en varias ocasiones en PyCon, SciPy, PyData y otras conferencias. Cualquier observacion sera bienvenida pues el objetivo ademas del educativo en las siguientes notebooks  es recibir valiosos comentarios y feeback por parte de los participantes"
   ]
  },
  {
   "cell_type": "code",
   "execution_count": null,
   "metadata": {
    "id": "TQL0_T3rL4PM"
   },
   "outputs": [],
   "source": []
  }
 ],
 "metadata": {
  "colab": {
   "provenance": []
  },
  "kernelspec": {
   "display_name": "Python 3 (ipykernel)",
   "language": "python",
   "name": "python3"
  },
  "language_info": {
   "codemirror_mode": {
    "name": "ipython",
    "version": 3
   },
   "file_extension": ".py",
   "mimetype": "text/x-python",
   "name": "python",
   "nbconvert_exporter": "python",
   "pygments_lexer": "ipython3",
   "version": "3.11.3"
  }
 },
 "nbformat": 4,
 "nbformat_minor": 1
}
