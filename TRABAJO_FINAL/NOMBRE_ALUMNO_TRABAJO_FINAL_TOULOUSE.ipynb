{
  "nbformat": 4,
  "nbformat_minor": 0,
  "metadata": {
    "colab": {
      "provenance": []
    },
    "kernelspec": {
      "name": "python3",
      "display_name": "Python 3"
    },
    "language_info": {
      "name": "python"
    }
  },
  "cells": [
    {
      "cell_type": "markdown",
      "source": [
        "\n",
        "<br>\n",
        "<h1><font color=\"#7F000E\" size=5>TOULOUSE LAUTREC </font></h1>\n",
        "<h1><font color=\"#7F000R\" size=6> APRENDIZAJE AUTOMATICO CON PYTHON </font></h1>\n",
        "<h1><font color=\"#7F000E\" size=4> TRABAJO FINAL\n",
        " </font></h1>\n",
        "<br>\n",
        "<br>\n",
        "<div style=\"text-align:right\">\n",
        "<font color=\"#7F000E\" size=3> **NOMBRE DEL ALUMNO**</font><br>\n",
        "<font color=\"#7F000E\" size=3> Curso 2290, Clases Lunes y Miercoles 20:00-22:30pm </font><br>\n",
        "<font color=\"#7F000e\" size=3> Cuarta Clase </font><br>\n",
        "</div>"
      ],
      "metadata": {
        "id": "tsLOZXYFJkjC"
      }
    },
    {
      "cell_type": "markdown",
      "source": [
        "---"
      ],
      "metadata": {
        "id": "p5u3Icf1MKnp"
      }
    },
    {
      "cell_type": "markdown",
      "source": [
        "## **TIPO DE APRENDIZAJE Y ALGORITMO:**"
      ],
      "metadata": {
        "id": "4nwUdJM59KVR"
      }
    },
    {
      "cell_type": "markdown",
      "source": [],
      "metadata": {
        "id": "RIgBTeHk9PS7"
      }
    },
    {
      "cell_type": "markdown",
      "source": [
        "## **DESCRIPCION DEL DATASET:**"
      ],
      "metadata": {
        "id": "K9_9BeIl9QfS"
      }
    },
    {
      "cell_type": "markdown",
      "source": [
        "# PASO 1 - COLECTAR DE DATOS"
      ],
      "metadata": {
        "id": "8NblPbBsJ0be"
      }
    },
    {
      "cell_type": "markdown",
      "source": [
        "Para afrontar la problemática que deseas resolver, deberás investigar y obtener datos que utilizaras para alimentar a tu máquina. Importa mucho la calidad y cantidad de información que consigas ya que impactará directamente en lo bien o mal que luego funcione nuestro modelo. Puede que tengas la información en una base de datos ya existente o que la debas crear desde cero. Para este pequeño proyecto puedes crear una planilla de cálculos que luego se exportará fácilmente como archivo csv."
      ],
      "metadata": {
        "id": "XiyeVQrfKd6K"
      }
    },
    {
      "cell_type": "code",
      "source": [],
      "metadata": {
        "id": "Uek7VxkwK0lU"
      },
      "execution_count": null,
      "outputs": []
    },
    {
      "cell_type": "markdown",
      "source": [
        "# PASO 2 - PREPARAR LOS DATOS"
      ],
      "metadata": {
        "id": "QYz3gd3UJ660"
      }
    },
    {
      "cell_type": "markdown",
      "source": [
        "Deberemos tener balanceada la cantidad de datos que tenemos para cada resultado(clase), para que sea representativo, ya que si no, el aprendizaje podrá ser tendencioso hacia un tipo de respuesta y cuando nuestro modelo intente generalizar el conocimiento fallará.\n",
        "También deberemos separar los datos en en dos grupos: uno para entrenamiento y otro para evaluación del modelo. Podemos fraccionar aproximadamente en una proporción de 80/20 pero puede variar según el caso y el volumen de datos que tengamos.\n",
        "En esta etapa también podemos preprocesar nuestros datos normalizando, eliminar duplicados y hacer corrección de errores."
      ],
      "metadata": {
        "id": "5r9eItIjK0Iv"
      }
    },
    {
      "cell_type": "code",
      "source": [],
      "metadata": {
        "id": "M7oR_gG8K2IV"
      },
      "execution_count": null,
      "outputs": []
    },
    {
      "cell_type": "markdown",
      "source": [
        "# PASO 3 - ELEGIR EL MODELO"
      ],
      "metadata": {
        "id": "lStyDa56J7DT"
      }
    },
    {
      "cell_type": "markdown",
      "source": [
        "Existen diversos modelos que podemos elegir de acuerdo al objetivo que tengamos: utilizaremos algoritmos de clasificación, predicción, regresión lineal, clustering (ejemplo k-means ó k-nearest neighbor), , bayesiano, etc y podrá haber variantes si lo que vamos a procesar son imágenes, sonido, texto, valores numéricos."
      ],
      "metadata": {
        "id": "Gj40wNkDLI5A"
      }
    },
    {
      "cell_type": "code",
      "source": [],
      "metadata": {
        "id": "FSWbUjnHLJpk"
      },
      "execution_count": null,
      "outputs": []
    },
    {
      "cell_type": "markdown",
      "source": [],
      "metadata": {
        "id": "YtkqpOBq9mk0"
      }
    },
    {
      "cell_type": "markdown",
      "source": [
        "# PASO 4 - Entrenar datos\n"
      ],
      "metadata": {
        "id": "TMKqKc5aJ7Kx"
      }
    },
    {
      "cell_type": "markdown",
      "source": [
        "Utilizaremos el set de datos de entrenamiento para ejecutar nuestra máquina y deberemos de ver una mejora incremental (para la predicción). Recordar inicializar los “pesos” de nuestro modelo aleatoriamente, los pesos son los valores que multiplican o afectan a las relaciones entre las entradas y las salidas, se irán ajustando automáticamente por el algoritmo seleccionado cuanto más se entrena. Revisar los resultados obtenidos y corregir (por ej. inclinación de la pendiente) y volver a iterar…"
      ],
      "metadata": {
        "id": "6cbVMUEHLVqN"
      }
    },
    {
      "cell_type": "code",
      "source": [],
      "metadata": {
        "id": "RDKmvCOILWOF"
      },
      "execution_count": null,
      "outputs": []
    },
    {
      "cell_type": "markdown",
      "source": [
        "# PASO 5- EVALUACION\n"
      ],
      "metadata": {
        "id": "7Lln_ujuKOFg"
      }
    },
    {
      "cell_type": "markdown",
      "source": [
        "Deberemos comprobar la máquina creada contra nuestro set de datos de Evaluación que contiene entradas que el modelo desconoce y verificar la precisión de nuestro modelo ya entrenado. Si la exactitud es menor o igual al 50% ese modelo no será útil ya que sería como lanzar una moneda al aire para tomar decisiones. Si alcanzamos un 90% o más podremos tener una buena confianza en los resultados que nos otorga el modelo."
      ],
      "metadata": {
        "id": "3Pl_uk4HLqTi"
      }
    },
    {
      "cell_type": "code",
      "source": [],
      "metadata": {
        "id": "Uq8r45AKLqkX"
      },
      "execution_count": null,
      "outputs": []
    },
    {
      "cell_type": "markdown",
      "source": [
        "# PASO 6 -PREDICCION DE INFERENCIA\n",
        "Ya estamos listos para utilizar nuestro modelo de Aprendizaje Automático! con nueva información y comenzar a predecir o inferir resultados “en la vida real”… Imaginemos que si este paso fuera pasar de un simulador de un coche a aplicar nuestra máquina en un coche de verdad… es un gran momento y también será un emocionante desafío poner a prueba realmente todo LO APRENDIDO.\n"
      ],
      "metadata": {
        "id": "MgDw2RbVKQ7x"
      }
    },
    {
      "cell_type": "code",
      "source": [],
      "metadata": {
        "id": "bnAPNFCHKUif"
      },
      "execution_count": null,
      "outputs": []
    }
  ]
}